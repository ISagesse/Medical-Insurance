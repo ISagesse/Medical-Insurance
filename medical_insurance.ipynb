{
 "cells": [
  {
   "cell_type": "markdown",
   "id": "3259d0fa",
   "metadata": {},
   "source": [
    "# Let calculate the reason that a person insurance price is increasing"
   ]
  },
  {
   "cell_type": "code",
   "execution_count": 3,
   "metadata": {},
   "outputs": [],
   "source": [
    "import csv"
   ]
  },
  {
   "cell_type": "code",
   "execution_count": 4,
   "metadata": {},
   "outputs": [],
   "source": [
    "medical_insurances = []\n",
    "\n",
    "with open('insurance.csv', 'r') as csv_file:\n",
    "    data = csv.reader(csv_file)\n",
    "    next(data)\n",
    "    for line in data:\n",
    "        medical_insurances.append(line)"
   ]
  },
  {
   "cell_type": "markdown",
   "metadata": {},
   "source": [
    "## The data that I will analyse is separated by Age Sex BMI Children Smoker Region Price"
   ]
  },
  {
   "cell_type": "markdown",
   "metadata": {},
   "source": [
    "## I will analyse all the prices to see the common factor for each insurance prices"
   ]
  },
  {
   "cell_type": "markdown",
   "metadata": {},
   "source": [
    "### Separate by group of age"
   ]
  },
  {
   "cell_type": "code",
   "execution_count": 5,
   "metadata": {},
   "outputs": [],
   "source": [
    "age_group_18_to_25 = []\n",
    "age_group_25_to_45 = []\n",
    "age_group_45_plus = []\n",
    "\n",
    "def separate_by_age(lst):\n",
    "    age = lst[0]\n",
    "    if int(age) <= 25:\n",
    "        age_group_18_to_25.append(lst)\n",
    "    elif int(age) > 25 and int(age) <= 45:\n",
    "        age_group_25_to_45.append(lst)\n",
    "    else:\n",
    "        age_group_45_plus.append(lst)"
   ]
  },
  {
   "cell_type": "code",
   "execution_count": 6,
   "metadata": {},
   "outputs": [],
   "source": [
    "for m in medical_insurances:\n",
    "    separate_by_age(m)"
   ]
  },
  {
   "cell_type": "markdown",
   "metadata": {},
   "source": [
    "### Calculate to see if age has an effect on insurance cost"
   ]
  },
  {
   "cell_type": "code",
   "execution_count": 7,
   "metadata": {},
   "outputs": [],
   "source": [
    "def calculate_average(lst):\n",
    "    average = 0\n",
    "    for l in lst:\n",
    "        average += float(l[6])\n",
    "    return average / len(lst)"
   ]
  },
  {
   "cell_type": "code",
   "execution_count": 8,
   "metadata": {},
   "outputs": [],
   "source": [
    "insurance_average_18_to_25 = calculate_average(age_group_18_to_25)\n",
    "insurance_average_26_to_45 = calculate_average(age_group_25_to_45)\n",
    "insurance_average_46_plus = calculate_average(age_group_45_plus)"
   ]
  },
  {
   "cell_type": "code",
   "execution_count": 45,
   "metadata": {},
   "outputs": [
    {
     "name": "stdout",
     "output_type": "stream",
     "text": [
      "In this survey the average insurance cost for people around the age of 18 to 25 is 9087.02 dollar\n",
      "In this survey the average insurance cost for people around the age of 26 to 45 is 11983.05 dollar\n",
      "In this survey the average insurance cost for people above the age of 46 is 17200.43 dollar\n"
     ]
    }
   ],
   "source": [
    "print(f'In this survey the average insurance cost for people around the age of 18 to 25 is { round(insurance_average_18_to_25, 2) } dollar')\n",
    "print(f'In this survey the average insurance cost for people around the age of 26 to 45 is { round(insurance_average_26_to_45, 2) } dollar')\n",
    "print(f'In this survey the average insurance cost for people above the age of 46 is { round(insurance_average_46_plus, 2) } dollar')"
   ]
  },
  {
   "cell_type": "markdown",
   "metadata": {},
   "source": [
    "## Let see if a person gender contribute to insurance prices"
   ]
  },
  {
   "cell_type": "code",
   "execution_count": 39,
   "metadata": {},
   "outputs": [],
   "source": [
    "female_group = []\n",
    "male_group = []\n",
    "\n",
    "def separate_by_gender(lst):\n",
    "    gender = lst[1]\n",
    "    if gender == 'female':\n",
    "        female_group.append(m)\n",
    "    else:\n",
    "        male_group.append(m)"
   ]
  },
  {
   "cell_type": "code",
   "execution_count": 41,
   "metadata": {},
   "outputs": [],
   "source": [
    "for m in medical_insurances:\n",
    "    separate_by_gender(m)"
   ]
  },
  {
   "cell_type": "code",
   "execution_count": 42,
   "metadata": {},
   "outputs": [],
   "source": [
    "average_female_insurance_cost = calculate_average(female_group)\n",
    "average_male_insurance_cost = calculate_average(male_group)"
   ]
  },
  {
   "cell_type": "code",
   "execution_count": 47,
   "metadata": {},
   "outputs": [
    {
     "name": "stdout",
     "output_type": "stream",
     "text": [
      "The average insurance cost for female is 12569.58 dollar\n",
      "The average insurance cost for male is 13956.75 dollar\n"
     ]
    }
   ],
   "source": [
    "print(f'The average insurance cost for female is { round(average_female_insurance_cost, 2) } dollar')\n",
    "print(f'The average insurance cost for male is { round(average_male_insurance_cost, 2) } dollar')"
   ]
  },
  {
   "cell_type": "markdown",
   "metadata": {},
   "source": [
    "## Does your bmi affect your insurance cost"
   ]
  },
  {
   "cell_type": "code",
   "execution_count": 48,
   "metadata": {},
   "outputs": [],
   "source": [
    "underweight_group = []\n",
    "healthy_weight_group = []\n",
    "overweight_group = []\n",
    "obesity_group = []\n",
    "def separate_by_bmi(lst):\n",
    "    bmi = float(lst[2])\n",
    "    if bmi < 18.5:\n",
    "        underweight_group.append(lst)\n",
    "    elif bmi == 18.5 and bmi < 25:\n",
    "        healthy_weight_group.append(lst)\n",
    "    elif bmi == 25.0 and bmi < 30:\n",
    "        overweight_group.append(lst)\n",
    "    else:\n",
    "        obesity_group.append(lst)"
   ]
  },
  {
   "cell_type": "code",
   "execution_count": 49,
   "metadata": {},
   "outputs": [],
   "source": [
    "for m in medical_insurances:\n",
    "    separate_by_bmi(m)"
   ]
  },
  {
   "cell_type": "code",
   "execution_count": 55,
   "metadata": {},
   "outputs": [],
   "source": [
    "average_underweight_insurance_cost = calculate_average(underweight_group)\n",
    "average_healthy_insurance_cost = calculate_average(healthy_weight_group)\n",
    "average_overweight_insurance_cost = calculate_average(overweight_group)\n",
    "average_obese_insurance_cost = calculate_average(obesity_group)"
   ]
  },
  {
   "cell_type": "code",
   "execution_count": 56,
   "metadata": {},
   "outputs": [
    {
     "name": "stdout",
     "output_type": "stream",
     "text": [
      "The average insurance cost for an underweight person is 8852.2 dollar\n",
      "The average insurance cost for an healthy person is 4766.02 dollar\n",
      "The average insurance cost for an overweight person is 10537.32 dollar\n",
      "The average insurance cost for an obese person is 13348.24 dollar\n"
     ]
    }
   ],
   "source": [
    "print(f'The average insurance cost for an underweight person is { round(average_underweight_insurance_cost, 2) } dollar')\n",
    "print(f'The average insurance cost for an healthy person is { round(average_healthy_insurance_cost, 2) } dollar')\n",
    "print(f'The average insurance cost for an overweight person is { round(average_overweight_insurance_cost, 2) } dollar')\n",
    "print(f'The average insurance cost for an obese person is { round(average_obese_insurance_cost, 2) } dollar')"
   ]
  },
  {
   "cell_type": "markdown",
   "metadata": {},
   "source": [
    "## does a smoker have a higher insurance rate than a non smoker"
   ]
  },
  {
   "cell_type": "code",
   "execution_count": 57,
   "metadata": {},
   "outputs": [],
   "source": [
    "smoker_group = []\n",
    "non_smoker_group = []\n",
    "def separate_by_smoke_status(lst):\n",
    "    smoking = lst[4]\n",
    "    if smoking == 'yes':\n",
    "        smoker_group.append(lst)\n",
    "    else:\n",
    "        non_smoker_group.append(lst)"
   ]
  },
  {
   "cell_type": "code",
   "execution_count": 58,
   "metadata": {},
   "outputs": [],
   "source": [
    "for m in medical_insurances:\n",
    "    separate_by_smoke_status(m)"
   ]
  },
  {
   "cell_type": "code",
   "execution_count": 60,
   "metadata": {},
   "outputs": [],
   "source": [
    "average_smoke_insurance_cost = calculate_average(smoker_group)\n",
    "average_no_smoke_insurance_cost = calculate_average(non_smoker_group)"
   ]
  },
  {
   "cell_type": "code",
   "execution_count": 61,
   "metadata": {},
   "outputs": [
    {
     "name": "stdout",
     "output_type": "stream",
     "text": [
      "The average insurance cost for a person that smoke is 32050.23 dollar\n",
      "The average insurance cost for a person that do not smoke is 8434.27 dollar\n"
     ]
    }
   ],
   "source": [
    "print(f'The average insurance cost for a person that smoke is { round(average_smoke_insurance_cost, 2) } dollar')\n",
    "print(f'The average insurance cost for a person that do not smoke is { round(average_no_smoke_insurance_cost, 2) } dollar')"
   ]
  },
  {
   "cell_type": "code",
   "execution_count": null,
   "metadata": {},
   "outputs": [],
   "source": []
  }
 ],
 "metadata": {
  "interpreter": {
   "hash": "00fbd0d99ed903e2cc7cebe1d514a4d54c4a75e90b16268ebd18f3654f440443"
  },
  "kernelspec": {
   "display_name": "Python 3.9.6 64-bit",
   "name": "python3"
  },
  "language_info": {
   "codemirror_mode": {
    "name": "ipython",
    "version": 3
   },
   "file_extension": ".py",
   "mimetype": "text/x-python",
   "name": "python",
   "nbconvert_exporter": "python",
   "pygments_lexer": "ipython3",
   "version": "3.9.6"
  }
 },
 "nbformat": 4,
 "nbformat_minor": 5
}
